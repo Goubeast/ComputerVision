{
  "nbformat": 4,
  "nbformat_minor": 0,
  "metadata": {
    "colab": {
      "name": "Untitled15.ipynb",
      "provenance": [],
      "collapsed_sections": []
    },
    "kernelspec": {
      "name": "python3",
      "display_name": "Python 3"
    },
    "accelerator": "GPU"
  },
  "cells": [
    {
      "cell_type": "code",
      "metadata": {
        "id": "px5Sbwuoa-p1"
      },
      "source": [
        "import numpy as np \n",
        "import tensorflow \n",
        "import pandas as pd\n",
        "import matplotlib.pyplot as plt \n",
        "from tensorflow.keras.datasets.fashion_mnist import load_data \n",
        "from tensorflow.keras.models import Model \n",
        "from tensorflow.keras.layers import Input, Dense, Reshape, Flatten, Conv2D, \\\n",
        "Conv2DTranspose, LeakyReLU, Dropout, Embedding, Concatenate\n",
        "from tensorflow.keras.optimizers import Adam"
      ],
      "execution_count": 1,
      "outputs": []
    },
    {
      "cell_type": "code",
      "metadata": {
        "id": "jvwBuchZcDsA"
      },
      "source": [
        "def discriminator(in_shape = (28,28,1), n_classes = 10):\n",
        "  in_label = Input((1,))\n",
        "  em = Embedding(n_classes, 50)(in_label)\n",
        "  n_nodes = in_shape[0] * in_shape[1]\n",
        "  den = Dense(n_nodes)(em)\n",
        "  re = Reshape((in_shape[0], in_shape[1], 1))(den)\n",
        "\n",
        "  in_image = Input((in_shape))\n",
        "\n",
        "  merge = Concatenate()([in_image, re])\n",
        "\n",
        "  fe = Conv2D(128, (3,3), strides = (2,2), padding = 'same')(merge)\n",
        "  fe = LeakyReLU(alpha = 0.2)(fe)\n",
        "  fe = Conv2D(128, (3,3), strides = (2,2), padding = 'same')(fe)\n",
        "  fe = LeakyReLU(alpha = 0.2)(fe)\n",
        "  fe = Flatten()(fe)\n",
        "  fe = Dropout(0.4)(fe)\n",
        "  out = Dense(1, activation = 'sigmoid')(fe)\n",
        "\n",
        "  model = Model([in_image, in_label], out)\n",
        "  opt = Adam(lr = 0.0002, beta_1 = 0.5)\n",
        "  model.compile(loss = 'binary_crossentropy', optimizer = opt, metrics = ['accuracy'])\n",
        "\n",
        "  return model\n",
        "\n",
        "def generator(latent_dim, n_classes = 10):\n",
        "  in_label = Input((1,))\n",
        "  em = Embedding(n_classes, 50)(in_label)\n",
        "  n_nodes = 7 * 7\n",
        "  den = Dense(n_nodes)(em)\n",
        "  li = Reshape((7, 7, 1))(den)\n",
        "  in_lat = Input((latent_dim,))\n",
        "  n_nodes = 128 * 7 * 7\n",
        "  gen = Dense(n_nodes)(in_lat)\n",
        "  gen = LeakyReLU(alpha = 0.2)(gen)\n",
        "  gen = Reshape((7, 7, 128))(gen)\n",
        "  merge = Concatenate()([gen, li])\n",
        "  gen = Conv2DTranspose(128, (4,4), strides = (2,2), padding = 'same')(merge)\n",
        "  gen = LeakyReLU(alpha = 0.2)(gen)\n",
        "  gen = Conv2DTranspose(128, (4,4), strides = (2,2), padding = 'same')(gen)\n",
        "  gen = LeakyReLU(alpha = 0.2)(gen)\n",
        "  out = Conv2D(1, (7, 7), activation = 'tanh', padding = 'same')(gen)\n",
        "\n",
        "  model = Model([in_lat, in_label], out)\n",
        "  return model\n",
        "\n",
        "def GAN(g_model, d_model):\n",
        "  d_model.trainable = False\n",
        "  gen_noise, gen_label = g_model.input \n",
        "  gen_output = g_model.output\n",
        "\n",
        "  gan_output = d_model([gen_output, gen_label])\n",
        "\n",
        "  model = Model([gen_noise, gen_label], gan_output)\n",
        "\n",
        "  opt = Adam(lr = 0.0002, beta_1 = 0.5)\n",
        "  model.compile(loss = 'binary_crossentropy', optimizer = opt)\n",
        "  return model"
      ],
      "execution_count": 2,
      "outputs": []
    },
    {
      "cell_type": "code",
      "metadata": {
        "id": "joJyffcwePNe"
      },
      "source": [
        "def load_real_samples():\n",
        "  (x_train, y_train), (x_test, y_test) = load_data()\n",
        "  X = np.expand_dims(x_train, axis = -1)\n",
        "  X = X.astype('float32')\n",
        "  X = (X - 127.5) / 127.5\n",
        "  return [X, y_train]\n",
        "\n",
        "def generate_real_samples(dataset, n_samples):\n",
        "  images, labels = dataset\n",
        "  ix = np.random.randint(0, images.shape[0], n_samples)\n",
        "  X, labels = images[ix], labels[ix]\n",
        "  y = np.ones((n_samples, 1))\n",
        "  return [X, labels], y\n",
        "\n",
        "def generate_latent_points(latent_dim, n_samples, n_classes = 10):\n",
        "  x_input = np.random.randn(latent_dim * n_samples)\n",
        "  z_input = x_input.reshape(n_samples, latent_dim)\n",
        "  labels = np.random.randint(0, n_classes, n_samples)\n",
        "  return [z_input, labels]\n",
        "\n",
        "def generate_fake_examples(generator, latent_dim, n_samples):\n",
        "  z_input, labels_input = generate_latent_points(latent_dim, n_samples)\n",
        "  images = generator.predict([z_input, labels_input])\n",
        "  y = np.zeros((n_samples, 1))\n",
        "  return [images, labels_input], y"
      ],
      "execution_count": 3,
      "outputs": []
    },
    {
      "cell_type": "code",
      "metadata": {
        "id": "P_bsgXQqf-rp"
      },
      "source": [
        "def train(g_model, d_model, gan_model, dataset, latent_dim, n_epochs = 100, n_batch = 128):\n",
        "  batch_per_epoch = int(dataset[0].shape[0] / n_batch)\n",
        "  half_batch = int(n_batch / 2)\n",
        "  for i in range(n_epochs): \n",
        "    for j in range(batch_per_epoch):\n",
        "\n",
        "      [x_real, labels_real], y_real = generate_real_samples(dataset, half_batch)\n",
        "      d_loss1, _ = d_model.train_on_batch([x_real, labels_real], y_real)\n",
        "\n",
        "      [x_fake, labels], y_fake = generate_fake_examples(g_model, latent_dim, half_batch)\n",
        "      d_loss2, _ = d_model.train_on_batch([x_fake, labels], y_fake)\n",
        "\n",
        "      [z_input, labels_input] = generate_latent_points(latent_dim, n_batch)\n",
        "      y_gan = np.ones((n_batch, 1))\n",
        "      g_loss = gan_model.train_on_batch([z_input, labels_input], y_gan)\n",
        "\n",
        "    print('>%d, %d/%d, d1=%.3f, d2=%.3f g=%.3f' % (i+1, j+1, batch_per_epoch, d_loss1, d_loss2, g_loss))\n",
        "    g_model.save('cgan_generator.h5')"
      ],
      "execution_count": 6,
      "outputs": []
    },
    {
      "cell_type": "code",
      "metadata": {
        "colab": {
          "base_uri": "https://localhost:8080/"
        },
        "id": "nIyuGOLVhjwp",
        "outputId": "eec27e2d-b365-4757-8998-e396f2a31792"
      },
      "source": [
        "latent_dim = 100\n",
        "d_model = discriminator()\n",
        "g_model = generator(latent_dim)\n",
        "gan_model = GAN(g_model, d_model)\n",
        "\n",
        "dataset = load_real_samples()\n",
        "\n",
        "train(g_model, d_model, gan_model, dataset, latent_dim)"
      ],
      "execution_count": 7,
      "outputs": [
        {
          "output_type": "stream",
          "text": [
            ">1, 468/468, d1=0.706, d2=0.644 g=0.795\n",
            ">2, 468/468, d1=0.676, d2=0.659 g=0.835\n",
            ">3, 468/468, d1=0.681, d2=0.614 g=0.854\n",
            ">4, 468/468, d1=0.680, d2=0.679 g=0.790\n",
            ">5, 468/468, d1=0.670, d2=0.665 g=0.780\n",
            ">6, 468/468, d1=0.660, d2=0.642 g=0.800\n",
            ">7, 468/468, d1=0.671, d2=0.661 g=0.777\n",
            ">8, 468/468, d1=0.646, d2=0.703 g=0.807\n",
            ">9, 468/468, d1=0.678, d2=0.632 g=0.804\n",
            ">10, 468/468, d1=0.671, d2=0.659 g=0.771\n",
            ">11, 468/468, d1=0.676, d2=0.605 g=0.865\n",
            ">12, 468/468, d1=0.600, d2=0.690 g=0.753\n",
            ">13, 468/468, d1=0.696, d2=0.699 g=0.755\n",
            ">14, 468/468, d1=0.670, d2=0.623 g=0.844\n",
            ">15, 468/468, d1=0.687, d2=0.703 g=0.789\n",
            ">16, 468/468, d1=0.653, d2=0.656 g=0.762\n",
            ">17, 468/468, d1=0.685, d2=0.662 g=0.775\n",
            ">18, 468/468, d1=0.668, d2=0.712 g=0.774\n",
            ">19, 468/468, d1=0.663, d2=0.653 g=0.772\n",
            ">20, 468/468, d1=0.667, d2=0.661 g=0.764\n",
            ">21, 468/468, d1=0.653, d2=0.729 g=0.772\n",
            ">22, 468/468, d1=0.696, d2=0.641 g=0.795\n",
            ">23, 468/468, d1=0.686, d2=0.667 g=0.786\n",
            ">24, 468/468, d1=0.649, d2=0.645 g=0.762\n",
            ">25, 468/468, d1=0.672, d2=0.685 g=0.773\n",
            ">26, 468/468, d1=0.692, d2=0.705 g=0.770\n",
            ">27, 468/468, d1=0.682, d2=0.662 g=0.822\n",
            ">28, 468/468, d1=0.647, d2=0.657 g=0.755\n",
            ">29, 468/468, d1=0.660, d2=0.616 g=0.814\n",
            ">30, 468/468, d1=0.675, d2=0.649 g=0.812\n",
            ">31, 468/468, d1=0.645, d2=0.679 g=0.787\n",
            ">32, 468/468, d1=0.708, d2=0.641 g=0.812\n",
            ">33, 468/468, d1=0.686, d2=0.703 g=0.772\n",
            ">34, 468/468, d1=0.647, d2=0.632 g=0.848\n",
            ">35, 468/468, d1=0.703, d2=0.671 g=0.783\n",
            ">36, 468/468, d1=0.636, d2=0.666 g=0.779\n",
            ">37, 468/468, d1=0.667, d2=0.651 g=0.790\n",
            ">38, 468/468, d1=0.705, d2=0.678 g=0.751\n",
            ">39, 468/468, d1=0.679, d2=0.658 g=0.788\n",
            ">40, 468/468, d1=0.704, d2=0.669 g=0.781\n",
            ">41, 468/468, d1=0.651, d2=0.642 g=0.834\n",
            ">42, 468/468, d1=0.698, d2=0.613 g=0.823\n",
            ">43, 468/468, d1=0.703, d2=0.668 g=0.775\n",
            ">44, 468/468, d1=0.700, d2=0.671 g=0.777\n",
            ">45, 468/468, d1=0.679, d2=0.611 g=0.774\n",
            ">46, 468/468, d1=0.681, d2=0.706 g=0.775\n",
            ">47, 468/468, d1=0.678, d2=0.650 g=0.755\n",
            ">48, 468/468, d1=0.657, d2=0.669 g=0.798\n",
            ">49, 468/468, d1=0.698, d2=0.686 g=0.779\n",
            ">50, 468/468, d1=0.691, d2=0.656 g=0.764\n",
            ">51, 468/468, d1=0.692, d2=0.674 g=0.756\n",
            ">52, 468/468, d1=0.693, d2=0.701 g=0.771\n",
            ">53, 468/468, d1=0.647, d2=0.642 g=0.755\n",
            ">54, 468/468, d1=0.680, d2=0.680 g=0.763\n",
            ">55, 468/468, d1=0.682, d2=0.704 g=0.763\n",
            ">56, 468/468, d1=0.668, d2=0.652 g=0.772\n",
            ">57, 468/468, d1=0.719, d2=0.690 g=0.766\n",
            ">58, 468/468, d1=0.667, d2=0.672 g=0.747\n",
            ">59, 468/468, d1=0.678, d2=0.791 g=0.769\n",
            ">60, 468/468, d1=0.713, d2=0.670 g=0.777\n",
            ">61, 468/468, d1=0.745, d2=0.674 g=0.757\n",
            ">62, 468/468, d1=0.677, d2=0.643 g=0.760\n",
            ">63, 468/468, d1=0.695, d2=0.662 g=0.809\n",
            ">64, 468/468, d1=0.713, d2=0.693 g=0.762\n",
            ">65, 468/468, d1=0.640, d2=0.703 g=0.765\n",
            ">66, 468/468, d1=0.668, d2=0.682 g=0.776\n",
            ">67, 468/468, d1=0.691, d2=0.655 g=0.780\n",
            ">68, 468/468, d1=0.706, d2=0.681 g=0.761\n",
            ">69, 468/468, d1=0.690, d2=0.681 g=0.762\n",
            ">70, 468/468, d1=0.676, d2=0.665 g=0.720\n",
            ">71, 468/468, d1=0.679, d2=0.668 g=0.787\n",
            ">72, 468/468, d1=0.701, d2=0.648 g=0.742\n",
            ">73, 468/468, d1=0.653, d2=0.727 g=0.768\n",
            ">74, 468/468, d1=0.736, d2=0.669 g=0.764\n",
            ">75, 468/468, d1=0.677, d2=0.704 g=0.753\n",
            ">76, 468/468, d1=0.702, d2=0.693 g=0.768\n",
            ">77, 468/468, d1=0.705, d2=0.654 g=0.719\n",
            ">78, 468/468, d1=0.697, d2=0.681 g=0.751\n",
            ">79, 468/468, d1=0.692, d2=0.696 g=0.751\n",
            ">80, 468/468, d1=0.691, d2=0.714 g=0.762\n",
            ">81, 468/468, d1=0.720, d2=0.674 g=0.759\n",
            ">82, 468/468, d1=0.702, d2=0.644 g=0.743\n",
            ">83, 468/468, d1=0.715, d2=0.683 g=0.752\n",
            ">84, 468/468, d1=0.674, d2=0.721 g=0.752\n",
            ">85, 468/468, d1=0.655, d2=0.656 g=0.752\n",
            ">86, 468/468, d1=0.675, d2=0.654 g=0.743\n",
            ">87, 468/468, d1=0.674, d2=0.707 g=0.749\n",
            ">88, 468/468, d1=0.678, d2=0.697 g=0.769\n",
            ">89, 468/468, d1=0.729, d2=0.672 g=0.763\n",
            ">90, 468/468, d1=0.664, d2=0.678 g=0.764\n",
            ">91, 468/468, d1=0.675, d2=0.687 g=0.776\n",
            ">92, 468/468, d1=0.683, d2=0.702 g=0.754\n",
            ">93, 468/468, d1=0.638, d2=0.726 g=0.770\n",
            ">94, 468/468, d1=0.686, d2=0.662 g=0.766\n",
            ">95, 468/468, d1=0.654, d2=0.732 g=0.757\n",
            ">96, 468/468, d1=0.644, d2=0.557 g=1.042\n",
            ">97, 468/468, d1=0.678, d2=0.686 g=0.744\n",
            ">98, 468/468, d1=0.639, d2=0.664 g=0.762\n",
            ">99, 468/468, d1=0.692, d2=0.726 g=0.758\n",
            ">100, 468/468, d1=0.674, d2=0.697 g=0.758\n"
          ],
          "name": "stdout"
        }
      ]
    },
    {
      "cell_type": "code",
      "metadata": {
        "colab": {
          "base_uri": "https://localhost:8080/",
          "height": 1000
        },
        "id": "KT8uEjglEa3M",
        "outputId": "9c6d520d-b5eb-4e84-b4ea-761d8579cd4f"
      },
      "source": [
        "from keras.models import load_model\n",
        "def save_plot(examples, n):\n",
        "  for i in range(n * n):\n",
        "    plt.subplot(n, n, 1+i)\n",
        "    plt.axis('off')\n",
        "    plt.imshow(examples[i, :, :, 0], cmap = 'gray_r')\n",
        "    plt.show()\n",
        "\n",
        "model = load_model('cgan_generator.h5')\n",
        "latent_points, labels = generate_latent_points(100, 100)\n",
        "labels = np.asarray([x for _ in range(10) for x in range(10)])\n",
        "X = model.predict([latent_points, labels])\n",
        "X = (X + 1) / 2.0\n",
        "save_plot(X, 10)"
      ],
      "execution_count": 15,
      "outputs": [
        {
          "output_type": "stream",
          "text": [
            "WARNING:tensorflow:No training configuration found in the save file, so the model was *not* compiled. Compile it manually.\n"
          ],
          "name": "stdout"
        },
        {
          "output_type": "display_data",
          "data": {
            "image/png": "[encoded data removed]",
            "text/plain": [
              "<Figure size 432x288 with 1 Axes>"
            ]
          },
          "metadata": {
            "tags": [],
            "needs_background": "light"
          }
        },
        {
          "output_type": "display_data",
          "data": {
            "image/png": "[encoded data removed]",
            "text/plain": [
              "<Figure size 432x288 with 1 Axes>"
            ]
          },
          "metadata": {
            "tags": [],
            "needs_background": "light"
          }
        },
        {
          "output_type": "display_data",
          "data": {
            "image/png": "[encoded data removed]",
            "text/plain": [
              "<Figure size 432x288 with 1 Axes>"
            ]
          },
          "metadata": {
            "tags": [],
            "needs_background": "light"
          }
        },
        {
          "output_type": "display_data",
          "data": {
            "image/png": "[encoded data removed]",
            "text/plain": [
              "<Figure size 432x288 with 1 Axes>"
            ]
          },
          "metadata": {
            "tags": [],
            "needs_background": "light"
          }
        },
        {
          "output_type": "display_data",
          "data": {
            "image/png": "[encoded data removed]",
            "text/plain": [
              "<Figure size 432x288 with 1 Axes>"
            ]
          },
          "metadata": {
            "tags": [],
            "needs_background": "light"
          }
        },
        {
          "output_type": "display_data",
          "data": {
            "image/png": "[encoded data removed]",
            "text/plain": [
              "<Figure size 432x288 with 1 Axes>"
            ]
          },
          "metadata": {
            "tags": [],
            "needs_background": "light"
          }
        },
        {
          "output_type": "display_data",
          "data": {
            "image/png": "[encoded data removed]",
            "text/plain": [
              "<Figure size 432x288 with 1 Axes>"
            ]
          },
          "metadata": {
            "tags": [],
            "needs_background": "light"
          }
        },
        {
          "output_type": "display_data",
          "data": {
            "image/png": "[encoded data removed]",
            "text/plain": [
              "<Figure size 432x288 with 1 Axes>"
            ]
          },
          "metadata": {
            "tags": [],
            "needs_background": "light"
          }
        },
        {
          "output_type": "display_data",
          "data": {
            "image/png": "[encoded data removed]",
            "text/plain": [
              "<Figure size 432x288 with 1 Axes>"
            ]
          },
          "metadata": {
            "tags": [],
            "needs_background": "light"
          }
        },
        {
          "output_type": "display_data",
          "data": {
            "image/png": "[encoded data removed]",
            "text/plain": [
              "<Figure size 432x288 with 1 Axes>"
            ]
          },
          "metadata": {
            "tags": [],
            "needs_background": "light"
          }
        },
        {
          "output_type": "display_data",
          "data": {
            "image/png": "[encoded data removed]",
            "text/plain": [
              "<Figure size 432x288 with 1 Axes>"
            ]
          },
          "metadata": {
            "tags": [],
            "needs_background": "light"
          }
        },
        {
          "output_type": "display_data",
          "data": {
            "image/png": "[encoded data removed]",
            "text/plain": [
              "<Figure size 432x288 with 1 Axes>"
            ]
          },
          "metadata": {
            "tags": [],
            "needs_background": "light"
          }
        },
        {
          "output_type": "display_data",
          "data": {
            "image/png": "[encoded data removed]",
            "text/plain": [
              "<Figure size 432x288 with 1 Axes>"
            ]
          },
          "metadata": {
            "tags": [],
            "needs_background": "light"
          }
        },
        {
          "output_type": "display_data",
          "data": {
            "image/png": "[encoded data removed]",
            "text/plain": [
              "<Figure size 432x288 with 1 Axes>"
            ]
          },
          "metadata": {
            "tags": [],
            "needs_background": "light"
          }
        },
        {
          "output_type": "display_data",
          "data": {
            "image/png": "[encoded data removed]",
            "text/plain": [
              "<Figure size 432x288 with 1 Axes>"
            ]
          },
          "metadata": {
            "tags": [],
            "needs_background": "light"
          }
        },
        {
          "output_type": "display_data",
          "data": {
            "image/png": "[encoded data removed]",
            "text/plain": [
              "<Figure size 432x288 with 1 Axes>"
            ]
          },
          "metadata": {
            "tags": [],
            "needs_background": "light"
          }
        },
        {
          "output_type": "display_data",
          "data": {
            "image/png": "[encoded data removed]",
            "text/plain": [
              "<Figure size 432x288 with 1 Axes>"
            ]
          },
          "metadata": {
            "tags": [],
            "needs_background": "light"
          }
        },
        {
          "output_type": "display_data",
          "data": {
            "image/png": "[encoded data removed]",
            "text/plain": [
              "<Figure size 432x288 with 1 Axes>"
            ]
          },
          "metadata": {
            "tags": [],
            "needs_background": "light"
          }
        },
        {
          "output_type": "display_data",
          "data": {
            "image/png": "[encoded data removed]",
            "text/plain": [
              "<Figure size 432x288 with 1 Axes>"
            ]
          },
          "metadata": {
            "tags": [],
            "needs_background": "light"
          }
        },
        {
          "output_type": "display_data",
          "data": {
            "image/png": "[encoded data removed]",
            "text/plain": [
              "<Figure size 432x288 with 1 Axes>"
            ]
          },
          "metadata": {
            "tags": [],
            "needs_background": "light"
          }
        },
        {
          "output_type": "display_data",
          "data": {
            "image/png": "[encoded data removed]",
            "text/plain": [
              "<Figure size 432x288 with 1 Axes>"
            ]
          },
          "metadata": {
            "tags": [],
            "needs_background": "light"
          }
        },
        {
          "output_type": "display_data",
          "data": {
            "image/png": "[encoded data removed]",
            "text/plain": [
              "<Figure size 432x288 with 1 Axes>"
            ]
          },
          "metadata": {
            "tags": [],
            "needs_background": "light"
          }
        },
        {
          "output_type": "display_data",
          "data": {
            "image/png": "[encoded data removed]",
            "text/plain": [
              "<Figure size 432x288 with 1 Axes>"
            ]
          },
          "metadata": {
            "tags": [],
            "needs_background": "light"
          }
        },
        {
          "output_type": "display_data",
          "data": {
            "image/png": "[encoded data removed]",
            "text/plain": [
              "<Figure size 432x288 with 1 Axes>"
            ]
          },
          "metadata": {
            "tags": [],
            "needs_background": "light"
          }
        },
        {
          "output_type": "display_data",
          "data": {
            "image/png": "[encoded data removed]",
            "text/plain": [
              "<Figure size 432x288 with 1 Axes>"
            ]
          },
          "metadata": {
            "tags": [],
            "needs_background": "light"
          }
        },
        {
          "output_type": "display_data",
          "data": {
            "image/png": "[encoded data removed]",
            "text/plain": [
              "<Figure size 432x288 with 1 Axes>"
            ]
          },
          "metadata": {
            "tags": [],
            "needs_background": "light"
          }
        },
        {
          "output_type": "display_data",
          "data": {
            "image/png": "[encoded data removed]",
            "text/plain": [
              "<Figure size 432x288 with 1 Axes>"
            ]
          },
          "metadata": {
            "tags": [],
            "needs_background": "light"
          }
        },
        {
          "output_type": "display_data",
          "data": {
            "image/png": "[encoded data removed]",
            "text/plain": [
              "<Figure size 432x288 with 1 Axes>"
            ]
          },
          "metadata": {
            "tags": [],
            "needs_background": "light"
          }
        },
        {
          "output_type": "display_data",
          "data": {
            "image/png": "[encoded data removed]",
            "text/plain": [
              "<Figure size 432x288 with 1 Axes>"
            ]
          },
          "metadata": {
            "tags": [],
            "needs_background": "light"
          }
        },
        {
          "output_type": "display_data",
          "data": {
            "image/png": "[encoded data removed]",
            "text/plain": [
              "<Figure size 432x288 with 1 Axes>"
            ]
          },
          "metadata": {
            "tags": [],
            "needs_background": "light"
          }
        },
        {
          "output_type": "display_data",
          "data": {
            "image/png": "[encoded data removed]",
            "text/plain": [
              "<Figure size 432x288 with 1 Axes>"
            ]
          },
          "metadata": {
            "tags": [],
            "needs_background": "light"
          }
        },
        {
          "output_type": "display_data",
          "data": {
            "image/png": "[encoded data removed]",
            "text/plain": [
              "<Figure size 432x288 with 1 Axes>"
            ]
          },
          "metadata": {
            "tags": [],
            "needs_background": "light"
          }
        },
        {
          "output_type": "display_data",
          "data": {
            "image/png": "[encoded data removed]",
            "text/plain": [
              "<Figure size 432x288 with 1 Axes>"
            ]
          },
          "metadata": {
            "tags": [],
            "needs_background": "light"
          }
        },
        {
          "output_type": "display_data",
          "data": {
            "image/png": "[encoded data removed]",
            "text/plain": [
              "<Figure size 432x288 with 1 Axes>"
            ]
          },
          "metadata": {
            "tags": [],
            "needs_background": "light"
          }
        },
        {
          "output_type": "display_data",
          "data": {
            "image/png": "[encoded data removed]",
            "text/plain": [
              "<Figure size 432x288 with 1 Axes>"
            ]
          },
          "metadata": {
            "tags": [],
            "needs_background": "light"
          }
        },
        {
          "output_type": "display_data",
          "data": {
            "image/png": "[encoded data removed]",
            "text/plain": [
              "<Figure size 432x288 with 1 Axes>"
            ]
          },
          "metadata": {
            "tags": [],
            "needs_background": "light"
          }
        },
        {
          "output_type": "display_data",
          "data": {
            "image/png": "[encoded data removed]",
            "text/plain": [
              "<Figure size 432x288 with 1 Axes>"
            ]
          },
          "metadata": {
            "tags": [],
            "needs_background": "light"
          }
        },
        {
          "output_type": "display_data",
          "data": {
            "image/png": "[encoded data removed]",
            "text/plain": [
              "<Figure size 432x288 with 1 Axes>"
            ]
          },
          "metadata": {
            "tags": [],
            "needs_background": "light"
          }
        },
        {
          "output_type": "display_data",
          "data": {
            "image/png": "[encoded data removed]",
            "text/plain": [
              "<Figure size 432x288 with 1 Axes>"
            ]
          },
          "metadata": {
            "tags": [],
            "needs_background": "light"
          }
        },
        {
          "output_type": "display_data",
          "data": {
            "image/png": "[encoded data removed]",
            "text/plain": [
              "<Figure size 432x288 with 1 Axes>"
            ]
          },
          "metadata": {
            "tags": [],
            "needs_background": "light"
          }
        },
        {
          "output_type": "display_data",
          "data": {
            "image/png": "[encoded data removed]",
            "text/plain": [
              "<Figure size 432x288 with 1 Axes>"
            ]
          },
          "metadata": {
            "tags": [],
            "needs_background": "light"
          }
        },
        {
          "output_type": "display_data",
          "data": {
            "image/png": "[encoded data removed]",
            "text/plain": [
              "<Figure size 432x288 with 1 Axes>"
            ]
          },
          "metadata": {
            "tags": [],
            "needs_background": "light"
          }
        },
        {
          "output_type": "display_data",
          "data": {
            "image/png": "[encoded data removed]",
            "text/plain": [
              "<Figure size 432x288 with 1 Axes>"
            ]
          },
          "metadata": {
            "tags": [],
            "needs_background": "light"
          }
        },
        {
          "output_type": "display_data",
          "data": {
            "image/png": "[encoded data removed]",
            "text/plain": [
              "<Figure size 432x288 with 1 Axes>"
            ]
          },
          "metadata": {
            "tags": [],
            "needs_background": "light"
          }
        },
        {
          "output_type": "display_data",
          "data": {
            "image/png": "[encoded data removed]",
            "text/plain": [
              "<Figure size 432x288 with 1 Axes>"
            ]
          },
          "metadata": {
            "tags": [],
            "needs_background": "light"
          }
        },
        {
          "output_type": "display_data",
          "data": {
            "image/png": "[encoded data removed]",
            "text/plain": [
              "<Figure size 432x288 with 1 Axes>"
            ]
          },
          "metadata": {
            "tags": [],
            "needs_background": "light"
          }
        },
        {
          "output_type": "display_data",
          "data": {
            "image/png": "[encoded data removed]",
            "text/plain": [
              "<Figure size 432x288 with 1 Axes>"
            ]
          },
          "metadata": {
            "tags": [],
            "needs_background": "light"
          }
        },
        {
          "output_type": "display_data",
          "data": {
            "image/png": "[encoded data removed]",
            "text/plain": [
              "<Figure size 432x288 with 1 Axes>"
            ]
          },
          "metadata": {
            "tags": [],
            "needs_background": "light"
          }
        },
        {
          "output_type": "display_data",
          "data": {
            "image/png": "[encoded data removed]",
            "text/plain": [
              "<Figure size 432x288 with 1 Axes>"
            ]
          },
          "metadata": {
            "tags": [],
            "needs_background": "light"
          }
        },
        {
          "output_type": "display_data",
          "data": {
            "image/png": "[encoded data removed]",
            "text/plain": [
              "<Figure size 432x288 with 1 Axes>"
            ]
          },
          "metadata": {
            "tags": [],
            "needs_background": "light"
          }
        },
        {
          "output_type": "display_data",
          "data": {
            "image/png": "[encoded data removed]",
            "text/plain": [
              "<Figure size 432x288 with 1 Axes>"
            ]
          },
          "metadata": {
            "tags": [],
            "needs_background": "light"
          }
        },
        {
          "output_type": "display_data",
          "data": {
            "image/png": "[encoded data removed]",
            "text/plain": [
              "<Figure size 432x288 with 1 Axes>"
            ]
          },
          "metadata": {
            "tags": [],
            "needs_background": "light"
          }
        },
        {
          "output_type": "display_data",
          "data": {
            "image/png": "[encoded data removed]",
            "text/plain": [
              "<Figure size 432x288 with 1 Axes>"
            ]
          },
          "metadata": {
            "tags": [],
            "needs_background": "light"
          }
        },
        {
          "output_type": "display_data",
          "data": {
            "image/png": "[encoded data removed]",
            "text/plain": [
              "<Figure size 432x288 with 1 Axes>"
            ]
          },
          "metadata": {
            "tags": [],
            "needs_background": "light"
          }
        },
        {
          "output_type": "display_data",
          "data": {
            "image/png": "[encoded data removed]",
            "text/plain": [
              "<Figure size 432x288 with 1 Axes>"
            ]
          },
          "metadata": {
            "tags": [],
            "needs_background": "light"
          }
        },
        {
          "output_type": "display_data",
          "data": {
            "image/png": "[encoded data removed]",
            "text/plain": [
              "<Figure size 432x288 with 1 Axes>"
            ]
          },
          "metadata": {
            "tags": [],
            "needs_background": "light"
          }
        },
        {
          "output_type": "display_data",
          "data": {
            "image/png": "[encoded data removed]",
            "text/plain": [
              "<Figure size 432x288 with 1 Axes>"
            ]
          },
          "metadata": {
            "tags": [],
            "needs_background": "light"
          }
        },
        {
          "output_type": "display_data",
          "data": {
            "image/png": "[encoded data removed]",
            "text/plain": [
              "<Figure size 432x288 with 1 Axes>"
            ]
          },
          "metadata": {
            "tags": [],
            "needs_background": "light"
          }
        },
        {
          "output_type": "display_data",
          "data": {
            "image/png": "[encoded data removed]",
            "text/plain": [
              "<Figure size 432x288 with 1 Axes>"
            ]
          },
          "metadata": {
            "tags": [],
            "needs_background": "light"
          }
        },
        {
          "output_type": "display_data",
          "data": {
            "image/png": "[encoded data removed]",
            "text/plain": [
              "<Figure size 432x288 with 1 Axes>"
            ]
          },
          "metadata": {
            "tags": [],
            "needs_background": "light"
          }
        },
        {
          "output_type": "display_data",
          "data": {
            "image/png": "[encoded data removed]",
            "text/plain": [
              "<Figure size 432x288 with 1 Axes>"
            ]
          },
          "metadata": {
            "tags": [],
            "needs_background": "light"
          }
        },
        {
          "output_type": "display_data",
          "data": {
            "image/png": "[encoded data removed]",
            "text/plain": [
              "<Figure size 432x288 with 1 Axes>"
            ]
          },
          "metadata": {
            "tags": [],
            "needs_background": "light"
          }
        },
        {
          "output_type": "display_data",
          "data": {
            "image/png": "[encoded data removed]",
            "text/plain": [
              "<Figure size 432x288 with 1 Axes>"
            ]
          },
          "metadata": {
            "tags": [],
            "needs_background": "light"
          }
        },
        {
          "output_type": "display_data",
          "data": {
            "image/png": "[encoded data removed]",
            "text/plain": [
              "<Figure size 432x288 with 1 Axes>"
            ]
          },
          "metadata": {
            "tags": [],
            "needs_background": "light"
          }
        },
        {
          "output_type": "display_data",
          "data": {
            "image/png": "[encoded data removed]",
            "text/plain": [
              "<Figure size 432x288 with 1 Axes>"
            ]
          },
          "metadata": {
            "tags": [],
            "needs_background": "light"
          }
        },
        {
          "output_type": "display_data",
          "data": {
            "image/png": "[encoded data removed]",
            "text/plain": [
              "<Figure size 432x288 with 1 Axes>"
            ]
          },
          "metadata": {
            "tags": [],
            "needs_background": "light"
          }
        },
        {
          "output_type": "display_data",
          "data": {
            "image/png": "[encoded data removed]",
            "text/plain": [
              "<Figure size 432x288 with 1 Axes>"
            ]
          },
          "metadata": {
            "tags": [],
            "needs_background": "light"
          }
        },
        {
          "output_type": "display_data",
          "data": {
            "image/png": "[encoded data removed]",
            "text/plain": [
              "<Figure size 432x288 with 1 Axes>"
            ]
          },
          "metadata": {
            "tags": [],
            "needs_background": "light"
          }
        },
        {
          "output_type": "display_data",
          "data": {
            "image/png": "[encoded data removed]",
            "text/plain": [
              "<Figure size 432x288 with 1 Axes>"
            ]
          },
          "metadata": {
            "tags": [],
            "needs_background": "light"
          }
        },
        {
          "output_type": "display_data",
          "data": {
            "image/png": "[encoded data removed]",
            "text/plain": [
              "<Figure size 432x288 with 1 Axes>"
            ]
          },
          "metadata": {
            "tags": [],
            "needs_background": "light"
          }
        },
        {
          "output_type": "display_data",
          "data": {
            "image/png": "[encoded data removed]",
            "text/plain": [
              "<Figure size 432x288 with 1 Axes>"
            ]
          },
          "metadata": {
            "tags": [],
            "needs_background": "light"
          }
        },
        {
          "output_type": "display_data",
          "data": {
            "image/png": "[encoded data removed]",
            "text/plain": [
              "<Figure size 432x288 with 1 Axes>"
            ]
          },
          "metadata": {
            "tags": [],
            "needs_background": "light"
          }
        },
        {
          "output_type": "display_data",
          "data": {
            "image/png": "[encoded data removed]",
            "text/plain": [
              "<Figure size 432x288 with 1 Axes>"
            ]
          },
          "metadata": {
            "tags": [],
            "needs_background": "light"
          }
        },
        {
          "output_type": "display_data",
          "data": {
            "image/png": "[encoded data removed]",
            "text/plain": [
              "<Figure size 432x288 with 1 Axes>"
            ]
          },
          "metadata": {
            "tags": [],
            "needs_background": "light"
          }
        },
        {
          "output_type": "display_data",
          "data": {
            "image/png": "[encoded data removed]",
            "text/plain": [
              "<Figure size 432x288 with 1 Axes>"
            ]
          },
          "metadata": {
            "tags": [],
            "needs_background": "light"
          }
        },
        {
          "output_type": "display_data",
          "data": {
            "image/png": "[encoded data removed]",
            "text/plain": [
              "<Figure size 432x288 with 1 Axes>"
            ]
          },
          "metadata": {
            "tags": [],
            "needs_background": "light"
          }
        },
        {
          "output_type": "display_data",
          "data": {
            "image/png": "[encoded data removed]",
            "text/plain": [
              "<Figure size 432x288 with 1 Axes>"
            ]
          },
          "metadata": {
            "tags": [],
            "needs_background": "light"
          }
        },
        {
          "output_type": "display_data",
          "data": {
            "image/png": "[encoded data removed]",
            "text/plain": [
              "<Figure size 432x288 with 1 Axes>"
            ]
          },
          "metadata": {
            "tags": [],
            "needs_background": "light"
          }
        },
        {
          "output_type": "display_data",
          "data": {
            "image/png": "[encoded data removed]",
            "text/plain": [
              "<Figure size 432x288 with 1 Axes>"
            ]
          },
          "metadata": {
            "tags": [],
            "needs_background": "light"
          }
        },
        {
          "output_type": "display_data",
          "data": {
            "image/png": "[encoded data removed]",
            "text/plain": [
              "<Figure size 432x288 with 1 Axes>"
            ]
          },
          "metadata": {
            "tags": [],
            "needs_background": "light"
          }
        },
        {
          "output_type": "display_data",
          "data": {
            "image/png": "[encoded data removed]",
            "text/plain": [
              "<Figure size 432x288 with 1 Axes>"
            ]
          },
          "metadata": {
            "tags": [],
            "needs_background": "light"
          }
        },
        {
          "output_type": "display_data",
          "data": {
            "image/png": "[encoded data removed]",
            "text/plain": [
              "<Figure size 432x288 with 1 Axes>"
            ]
          },
          "metadata": {
            "tags": [],
            "needs_background": "light"
          }
        },
        {
          "output_type": "display_data",
          "data": {
            "image/png": "[encoded data removed]",
            "text/plain": [
              "<Figure size 432x288 with 1 Axes>"
            ]
          },
          "metadata": {
            "tags": [],
            "needs_background": "light"
          }
        },
        {
          "output_type": "display_data",
          "data": {
            "image/png": "[encoded data removed]",
            "text/plain": [
              "<Figure size 432x288 with 1 Axes>"
            ]
          },
          "metadata": {
            "tags": [],
            "needs_background": "light"
          }
        },
        {
          "output_type": "display_data",
          "data": {
            "image/png": "[encoded data removed]",
            "text/plain": [
              "<Figure size 432x288 with 1 Axes>"
            ]
          },
          "metadata": {
            "tags": [],
            "needs_background": "light"
          }
        },
        {
          "output_type": "display_data",
          "data": {
            "image/png": "[encoded data removed]",
            "text/plain": [
              "<Figure size 432x288 with 1 Axes>"
            ]
          },
          "metadata": {
            "tags": [],
            "needs_background": "light"
          }
        },
        {
          "output_type": "display_data",
          "data": {
            "image/png": "[encoded data removed]",
            "text/plain": [
              "<Figure size 432x288 with 1 Axes>"
            ]
          },
          "metadata": {
            "tags": [],
            "needs_background": "light"
          }
        },
        {
          "output_type": "display_data",
          "data": {
            "image/png": "[encoded data removed]",
            "text/plain": [
              "<Figure size 432x288 with 1 Axes>"
            ]
          },
          "metadata": {
            "tags": [],
            "needs_background": "light"
          }
        },
        {
          "output_type": "display_data",
          "data": {
            "image/png": "[encoded data removed]",
            "text/plain": [
              "<Figure size 432x288 with 1 Axes>"
            ]
          },
          "metadata": {
            "tags": [],
            "needs_background": "light"
          }
        },
        {
          "output_type": "display_data",
          "data": {
            "image/png": "[encoded data removed]",
            "text/plain": [
              "<Figure size 432x288 with 1 Axes>"
            ]
          },
          "metadata": {
            "tags": [],
            "needs_background": "light"
          }
        },
        {
          "output_type": "display_data",
          "data": {
            "image/png": "[encoded data removed]",
            "text/plain": [
              "<Figure size 432x288 with 1 Axes>"
            ]
          },
          "metadata": {
            "tags": [],
            "needs_background": "light"
          }
        },
        {
          "output_type": "display_data",
          "data": {
            "image/png": "[encoded data removed]",
            "text/plain": [
              "<Figure size 432x288 with 1 Axes>"
            ]
          },
          "metadata": {
            "tags": [],
            "needs_background": "light"
          }
        },
        {
          "output_type": "display_data",
          "data": {
            "image/png": "[encoded data removed]",
            "text/plain": [
              "<Figure size 432x288 with 1 Axes>"
            ]
          },
          "metadata": {
            "tags": [],
            "needs_background": "light"
          }
        },
        {
          "output_type": "display_data",
          "data": {
            "image/png": "[encoded data removed]",
            "text/plain": [
              "<Figure size 432x288 with 1 Axes>"
            ]
          },
          "metadata": {
            "tags": [],
            "needs_background": "light"
          }
        },
        {
          "output_type": "display_data",
          "data": {
            "image/png": "[encoded data removed]",
            "text/plain": [
              "<Figure size 432x288 with 1 Axes>"
            ]
          },
          "metadata": {
            "tags": [],
            "needs_background": "light"
          }
        },
        {
          "output_type": "display_data",
          "data": {
            "image/png": "[encoded data removed]",
            "text/plain": [
              "<Figure size 432x288 with 1 Axes>"
            ]
          },
          "metadata": {
            "tags": [],
            "needs_background": "light"
          }
        },
        {
          "output_type": "display_data",
          "data": {
            "image/png": "[encoded data removed]",
            "text/plain": [
              "<Figure size 432x288 with 1 Axes>"
            ]
          },
          "metadata": {
            "tags": [],
            "needs_background": "light"
          }
        },
        {
          "output_type": "display_data",
          "data": {
            "image/png": "[encoded data removed]",
            "text/plain": [
              "<Figure size 432x288 with 1 Axes>"
            ]
          },
          "metadata": {
            "tags": [],
            "needs_background": "light"
          }
        },
        {
          "output_type": "display_data",
          "data": {
            "image/png": "[encoded data removed]",
            "text/plain": [
              "<Figure size 432x288 with 1 Axes>"
            ]
          },
          "metadata": {
            "tags": [],
            "needs_background": "light"
          }
        },
        {
          "output_type": "display_data",
          "data": {
            "image/png": "[encoded data removed]",
            "text/plain": [
              "<Figure size 432x288 with 1 Axes>"
            ]
          },
          "metadata": {
            "tags": [],
            "needs_background": "light"
          }
        }
      ]
    }
  ]
}